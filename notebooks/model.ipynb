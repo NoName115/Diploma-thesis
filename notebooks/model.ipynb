{
 "cells": [
  {
   "cell_type": "code",
   "execution_count": 12,
   "metadata": {},
   "outputs": [],
   "source": [
    "import torch\n",
    "from torch import nn\n",
    "from torchvision import transforms\n",
    "from torch.utils.data import Dataset, DataLoader\n",
    "\n",
    "import os\n",
    "import numpy as np\n",
    "from typing import List, Tuple"
   ]
  },
  {
   "cell_type": "code",
   "execution_count": 39,
   "metadata": {},
   "outputs": [],
   "source": [
    "# Device configuration\n",
    "device = torch.device(\"cuda\" if torch.cuda.is_available() else \"cpu\")\n",
    "\n",
    "BATCH_SIZE = 64\n",
    "\n",
    "INPUT_SIZE = 3\n",
    "HIDDEN_SIZE = 128\n",
    "NUM_LAYERS = 2\n",
    "\n",
    "LEARNING_RATE = 0.003\n",
    "EPOCHS = 10"
   ]
  },
  {
   "cell_type": "code",
   "execution_count": 29,
   "metadata": {},
   "outputs": [],
   "source": [
    "# Torch dataloader\n",
    "class MovementsDataset(Dataset):\n",
    "    \n",
    "    NUMBER_OF_JOINTS = 25\n",
    "    NUMBER_OF_AXES = 3\n",
    "    \n",
    "    def __init__(self, root, transforms=None):\n",
    "        self.root = root\n",
    "        self.transforms = transforms\n",
    "        \n",
    "        self.data_files = list(sorted(os.listdir(self.root)))\n",
    "        self.file_frames: List[int] = []\n",
    "\n",
    "        self.classes = dict()\n",
    "        \n",
    "        # Load number of frames for every file\n",
    "        for fn in self.data_files:\n",
    "            with open(os.path.join(self.root, fn)) as f:\n",
    "                header = f.readline().split()[-1].split(\"_\")\n",
    "                \n",
    "                self.file_frames.append(int(header[-1]))  # last element - number_of_frames\n",
    "                \n",
    "                label = int(header[1])  # second element - label\n",
    "                if label not in self.classes:\n",
    "                    self.classes[label] = len(self.classes) + 1\n",
    "        \n",
    "    def _get_file_index(self, frame_indx) -> Tuple[int, int]:\n",
    "        start_indx = frame_indx\n",
    "        for i, nof in enumerate(self.file_frames):\n",
    "            if start_indx < nof:\n",
    "                # print(f\"{start_indx} - {i}\")\n",
    "                return i, start_indx\n",
    "            else:\n",
    "                start_indx -= nof\n",
    "        \n",
    "    def __getitem__(self, indx):\n",
    "        file_indx, line_indx = self._get_file_index(indx)\n",
    "        action_file = os.path.join(self.root, self.data_files[file_indx])\n",
    "        \n",
    "        with open(action_file, \"r\") as f:\n",
    "            data_str = f.read().rstrip('\\n').split('\\n')\n",
    "        \n",
    "        line_indx += 2  # first two header lines in the file   \n",
    "        frame = np.array([triple.split(\", \") for triple in data_str[line_indx].split(\";\")], dtype=np.float32)\n",
    "        assert frame.shape == (self.NUMBER_OF_JOINTS, self.NUMBER_OF_AXES)\n",
    "        \n",
    "        target = self.classes[int(data_str[0].split()[-1].split(\"_\")[1])]\n",
    "        \n",
    "        if self.transforms:\n",
    "            frame = self.transforms(frame)\n",
    "        \n",
    "        return frame, target\n",
    "    \n",
    "    def __len__(self) -> int:\n",
    "        return len(self.data_files)"
   ]
  },
  {
   "cell_type": "code",
   "execution_count": 36,
   "metadata": {},
   "outputs": [],
   "source": [
    "class BiRNN(nn.Module):\n",
    "\n",
    "    def __init__(self, input_size: int, hidden_size: int, num_layers: int, num_classes: int):\n",
    "        super().__init__()\n",
    "        self.hidden_size = hidden_size\n",
    "        self.num_layers = num_layers\n",
    "\n",
    "        self.lstm = nn.LSTM(input_size, hidden_size, num_layers, batch_first=True, bidirectional=True)\n",
    "        self.fc = nn.Linear(hidden_size * 2, num_classes)\n",
    "\n",
    "    def forward(self, x):\n",
    "        h0 = torch.zeros(self.num_layers * 2, x.size(0), self.hidden_size).to(device)\n",
    "        c0 = torch.zeros(self.num_layers * 2, x.size(0), self.hidden_size).to(device)\n",
    "\n",
    "        # Forward to LSTM\n",
    "        out, _ = self.lstm(x, (h0, c0))  # output format: (batch_size, seq_length, hidden_size * 2)\n",
    "\n",
    "        out = self.fc(out[:, -1, :])\n",
    "        return out"
   ]
  },
  {
   "cell_type": "code",
   "execution_count": 30,
   "metadata": {},
   "outputs": [],
   "source": [
    "md = MovementsDataset(\n",
    "    \"../data/exports/actions-single-subject-all-POS_2020-04-29T15:15:27.384264\",\n",
    "    transforms=transforms.ToTensor()\n",
    ")"
   ]
  },
  {
   "cell_type": "code",
   "execution_count": 31,
   "metadata": {},
   "outputs": [],
   "source": [
    "train_loader = DataLoader(md, batch_size=BATCH_SIZE, shuffle=True)"
   ]
  },
  {
   "cell_type": "code",
   "execution_count": 32,
   "metadata": {},
   "outputs": [
    {
     "data": {
      "text/plain": [
       "{10: 1,\n",
       " 11: 2,\n",
       " 15: 3,\n",
       " 19: 4,\n",
       " 20: 5,\n",
       " 22: 6,\n",
       " 23: 7,\n",
       " 29: 8,\n",
       " 31: 9,\n",
       " 32: 10,\n",
       " 38: 11,\n",
       " 39: 12,\n",
       " 41: 13,\n",
       " 42: 14,\n",
       " 43: 15,\n",
       " 44: 16,\n",
       " 45: 17,\n",
       " 4: 18,\n",
       " 8: 19,\n",
       " 9: 20,\n",
       " 13: 21,\n",
       " 17: 22,\n",
       " 1: 23,\n",
       " 25: 24,\n",
       " 2: 25,\n",
       " 30: 26,\n",
       " 33: 27,\n",
       " 34: 28,\n",
       " 36: 29,\n",
       " 37: 30,\n",
       " 3: 31,\n",
       " 40: 32,\n",
       " 46: 33,\n",
       " 48: 34,\n",
       " 49: 35,\n",
       " 50: 36,\n",
       " 51: 37,\n",
       " 5: 38,\n",
       " 6: 39,\n",
       " 7: 40,\n",
       " 47: 41,\n",
       " 35: 42,\n",
       " 28: 43}"
      ]
     },
     "execution_count": 32,
     "metadata": {},
     "output_type": "execute_result"
    }
   ],
   "source": [
    "md.classes"
   ]
  },
  {
   "cell_type": "code",
   "execution_count": 40,
   "metadata": {
    "scrolled": false
   },
   "outputs": [
    {
     "name": "stdout",
     "output_type": "stream",
     "text": [
      "Epoch [1/10], Loss: 3.762\n",
      "Epoch [1/10], Loss: 3.3008\n",
      "Epoch [1/10], Loss: 2.7687\n",
      "Epoch [1/10], Loss: 2.1449\n",
      "Epoch [2/10], Loss: 2.1568\n",
      "Epoch [2/10], Loss: 1.7988\n",
      "Epoch [2/10], Loss: 1.8185\n",
      "Epoch [2/10], Loss: 1.4929\n",
      "Epoch [3/10], Loss: 1.5943\n",
      "Epoch [3/10], Loss: 1.4505\n",
      "Epoch [3/10], Loss: 1.4163\n",
      "Epoch [3/10], Loss: 1.1005\n",
      "Epoch [4/10], Loss: 1.2904\n",
      "Epoch [4/10], Loss: 0.8053\n",
      "Epoch [4/10], Loss: 0.8002\n",
      "Epoch [4/10], Loss: 0.9224\n",
      "Epoch [5/10], Loss: 0.8556\n",
      "Epoch [5/10], Loss: 0.9158\n",
      "Epoch [5/10], Loss: 0.8475\n",
      "Epoch [5/10], Loss: 0.7226\n",
      "Epoch [6/10], Loss: 0.5301\n",
      "Epoch [6/10], Loss: 0.5021\n",
      "Epoch [6/10], Loss: 0.5364\n",
      "Epoch [6/10], Loss: 0.6056\n",
      "Epoch [7/10], Loss: 0.4898\n",
      "Epoch [7/10], Loss: 0.5369\n",
      "Epoch [7/10], Loss: 0.4403\n",
      "Epoch [7/10], Loss: 0.3607\n",
      "Epoch [8/10], Loss: 0.2511\n",
      "Epoch [8/10], Loss: 0.2902\n",
      "Epoch [8/10], Loss: 0.3301\n",
      "Epoch [8/10], Loss: 0.2539\n",
      "Epoch [9/10], Loss: 0.2966\n",
      "Epoch [9/10], Loss: 0.245\n",
      "Epoch [9/10], Loss: 0.226\n",
      "Epoch [9/10], Loss: 0.1766\n",
      "Epoch [10/10], Loss: 0.1722\n",
      "Epoch [10/10], Loss: 0.2023\n",
      "Epoch [10/10], Loss: 0.1965\n",
      "Epoch [10/10], Loss: 0.2741\n",
      "DONE\n"
     ]
    }
   ],
   "source": [
    "# Training the network\n",
    "model = BiRNN(INPUT_SIZE, HIDDEN_SIZE, NUM_LAYERS, len(md.classes))\n",
    "\n",
    "criterion = nn.CrossEntropyLoss()\n",
    "optimizer = torch.optim.Adam(model.parameters(), lr=LEARNING_RATE)\n",
    "\n",
    "# Train the model\n",
    "for epoch in range(EPOCHS):\n",
    "    for i, (sequnces, labels) in enumerate(train_loader):\n",
    "        sequnces = sequnces.reshape(-1, 25, 3).to(device)\n",
    "        labels = labels.to(device)\n",
    "        \n",
    "        # forward pass\n",
    "        outputs = model(sequnces)\n",
    "\n",
    "        loss = criterion(outputs, labels)\n",
    "\n",
    "        # backward pass\n",
    "        optimizer.zero_grad()\n",
    "        loss.backward()\n",
    "        optimizer.step()\n",
    "\n",
    "        if i % 49 == 0:\n",
    "            print(f\"Epoch [{epoch + 1}/{EPOCHS}], Loss: {round(loss.item(), 4)}\")\n",
    "\n",
    "print(\"DONE\")"
   ]
  },
  {
   "cell_type": "code",
   "execution_count": 41,
   "metadata": {},
   "outputs": [
    {
     "name": "stdout",
     "output_type": "stream",
     "text": [
      "Test Accuracy: 95.48435923309788\n"
     ]
    }
   ],
   "source": [
    "# Test model\n",
    "with torch.no_grad():\n",
    "    correct = 0\n",
    "    total = 0\n",
    "    for sequences, labels in train_loader:\n",
    "        sequences = sequences.reshape(-1, 25, 3).to(device)\n",
    "        labels = labels.to(device)\n",
    "        \n",
    "        outputs = model(sequences)\n",
    "        _, predicted = torch.max(outputs.data, dim=1)\n",
    "\n",
    "        total += labels.size(0)\n",
    "        correct += (predicted == labels).sum().item()\n",
    "\n",
    "    print(f\"Test Accuracy: {100 * correct / total}\")\n",
    "\n",
    "# Save model\n",
    "torch.save(model.state_dict(), 'model.pth')"
   ]
  },
  {
   "cell_type": "code",
   "execution_count": null,
   "metadata": {},
   "outputs": [],
   "source": [
    "# TODO\n",
    "#  - rozdelit na trenovacie/testovanie 80/20\n",
    "#  - pocet epoch nastavit na 20"
   ]
  }
 ],
 "metadata": {
  "kernelspec": {
   "display_name": "Python 3",
   "language": "python",
   "name": "python3"
  },
  "language_info": {
   "codemirror_mode": {
    "name": "ipython",
    "version": 3
   },
   "file_extension": ".py",
   "mimetype": "text/x-python",
   "name": "python",
   "nbconvert_exporter": "python",
   "pygments_lexer": "ipython3",
   "version": "3.7.5"
  }
 },
 "nbformat": 4,
 "nbformat_minor": 4
}
