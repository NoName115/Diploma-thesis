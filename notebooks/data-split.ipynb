{
 "cells": [
  {
   "cell_type": "code",
   "execution_count": 7,
   "metadata": {},
   "outputs": [],
   "source": [
    "import os\n",
    "import shutil\n",
    "import datetime"
   ]
  },
  {
   "cell_type": "code",
   "execution_count": 4,
   "metadata": {},
   "outputs": [],
   "source": [
    "sequence_folder = \"../data/exports/actions-single-subject-all-POS_2020-05-06T16:27:21.124218\"\n",
    "cs_file = \"../data/meta/cross-subject.txt\"\n",
    "cv_file = \"../data/meta/cross-view.txt\""
   ]
  },
  {
   "cell_type": "code",
   "execution_count": 3,
   "metadata": {},
   "outputs": [],
   "source": [
    "# Split by CS & CV\n",
    "datasets = {\n",
    "    \"cs\": {\n",
    "        \"train\": [],\n",
    "        \"val\": []\n",
    "    },\n",
    "    \"cv\": {\n",
    "        \"train\": [],\n",
    "        \"val\": []\n",
    "    }\n",
    "}\n",
    "\n",
    "with open(cs_file, \"r\") as csf:\n",
    "    cs_data = csf.read().rstrip(',\\n').split('\\n')\n",
    "\n",
    "datasets[\"cs\"][\"train\"] = cs_data[1].rstrip(', ').split(', ')\n",
    "datasets[\"cs\"][\"val\"] = cs_data[3].split(', ')\n",
    "\n",
    "with open(cv_file, \"r\") as cvf:\n",
    "    cv_data = cvf.read().rstrip(',\\n').split('\\n')\n",
    "    \n",
    "datasets[\"cv\"][\"train\"] = cv_data[1].rstrip(', ').split(', ')\n",
    "datasets[\"cv\"][\"val\"] = cs_data[3].split(', ')"
   ]
  },
  {
   "cell_type": "code",
   "execution_count": 10,
   "metadata": {},
   "outputs": [
    {
     "data": {
      "text/plain": [
       "944"
      ]
     },
     "execution_count": 10,
     "metadata": {},
     "output_type": "execute_result"
    }
   ],
   "source": [
    "len(datasets[\"cs\"][\"train\"])"
   ]
  },
  {
   "cell_type": "code",
   "execution_count": 9,
   "metadata": {},
   "outputs": [],
   "source": [
    "export_folder = os.path.join(\"../data/exports/\", datetime.datetime.now().isoformat())\n",
    "\n",
    "cs_train_folder = os.path.join(export_folder, \"cross-subject\", \"train\")\n",
    "cs_val_folder = os.path.join(export_folder, \"cross-subject\", \"val\")\n",
    "cv_train_folder = os.path.join(export_folder, \"cross-view\", \"train\")\n",
    "cv_val_folder = os.path.join(export_folder, \"cross-view\", \"val\")\n",
    "\n",
    "os.makedirs(cs_train_folder, exist_ok=True)\n",
    "os.makedirs(cs_val_folder, exist_ok=True)\n",
    "os.makedirs(cv_train_folder, exist_ok=True)\n",
    "os.makedirs(cv_val_folder, exist_ok=True)\n",
    "\n",
    "for i, file_name in enumerate(os.listdir(sequence_folder), 1):\n",
    "    if i % 49 == 0:\n",
    "        print(f\"Processing... {i}/{len(sequence_folder)}\")\n",
    "    \n",
    "    # Get sequence ID from file_name\n",
    "    seq_id = file_name.split(\"_\")[0]\n",
    "    \n",
    "    if seq_id in datasets[\"cs\"][\"train\"]:\n",
    "        shutil.copyfile(\n",
    "            os.path.join(sequence_folder, file_name),\n",
    "            os.path.join(cs_train_folder, file_name)\n",
    "        )\n",
    "    elif seq_id in datasets[\"cs\"][\"val\"]:\n",
    "        shutil.copyfile(\n",
    "            os.path.join(sequence_folder, file_name),\n",
    "            os.path.join(cs_val_folder, file_name)\n",
    "        )\n",
    "        \n",
    "    if seq_id in datasets[\"cv\"][\"train\"]:\n",
    "        shutil.copyfile(\n",
    "            os.path.join(sequence_folder, file_name),\n",
    "            os.path.join(cv_train_folder, file_name),\n",
    "        )\n",
    "    elif seq_id in datasets[\"cv\"][\"val\"]:\n",
    "        shutil.copyfile(\n",
    "            os.path.join(sequence_folder, file_name),\n",
    "            os.path.join(cv_val_folder, file_name)\n",
    "        )"
   ]
  }
 ],
 "metadata": {
  "kernelspec": {
   "display_name": "Python 3",
   "language": "python",
   "name": "python3"
  },
  "language_info": {
   "codemirror_mode": {
    "name": "ipython",
    "version": 3
   },
   "file_extension": ".py",
   "mimetype": "text/x-python",
   "name": "python",
   "nbconvert_exporter": "python",
   "pygments_lexer": "ipython3",
   "version": "3.7.5"
  }
 },
 "nbformat": 4,
 "nbformat_minor": 4
}
