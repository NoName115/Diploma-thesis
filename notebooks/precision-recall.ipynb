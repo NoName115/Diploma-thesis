{
 "cells": [
  {
   "cell_type": "code",
   "execution_count": 9,
   "metadata": {},
   "outputs": [],
   "source": [
    "from sklearn import svm, datasets\n",
    "from sklearn.preprocessing import label_binarize\n",
    "from sklearn.model_selection import train_test_split\n",
    "import numpy as np"
   ]
  },
  {
   "cell_type": "code",
   "execution_count": 4,
   "metadata": {},
   "outputs": [],
   "source": [
    "iris = datasets.load_iris()"
   ]
  },
  {
   "cell_type": "code",
   "execution_count": 17,
   "metadata": {},
   "outputs": [
    {
     "name": "stdout",
     "output_type": "stream",
     "text": [
      "(150, 4)\n",
      "(150, 804)\n"
     ]
    }
   ],
   "source": [
    "X = iris.data\n",
    "print(X.shape)\n",
    "\n",
    "# Add noisy features\n",
    "random_state = np.random.RandomState(0)\n",
    "n_samples, n_features = X.shape\n",
    "X = np.c_[X, random_state.randn(n_samples, 200 * n_features)]\n",
    "print(X.shape)"
   ]
  },
  {
   "cell_type": "code",
   "execution_count": 13,
   "metadata": {},
   "outputs": [
    {
     "data": {
      "text/plain": [
       "(150,)"
      ]
     },
     "execution_count": 13,
     "metadata": {},
     "output_type": "execute_result"
    }
   ],
   "source": [
    "y = iris.target\n",
    "y.shape"
   ]
  },
  {
   "cell_type": "code",
   "execution_count": 23,
   "metadata": {},
   "outputs": [
    {
     "data": {
      "text/plain": [
       "(150, 3)"
      ]
     },
     "execution_count": 23,
     "metadata": {},
     "output_type": "execute_result"
    }
   ],
   "source": [
    "y = label_binarize(y, classes=[0, 1, 2])\n",
    "y.shape"
   ]
  },
  {
   "cell_type": "code",
   "execution_count": 28,
   "metadata": {},
   "outputs": [
    {
     "data": {
      "text/plain": [
       "array([0, 0, 0, 0, 0, 0, 0, 0, 0, 0, 0, 0, 0, 0, 0, 0, 0, 0, 0, 0, 0, 0,\n",
       "       0, 0, 0, 0, 0, 0, 0, 0, 0, 0, 0, 0, 0, 0, 0, 0, 0, 0, 0, 0, 0, 0,\n",
       "       0, 0, 0, 0, 0, 0, 0, 0, 0, 0, 0, 0, 0, 0, 0, 0, 0, 0, 0, 0, 0, 0,\n",
       "       0, 0, 0, 0, 0, 0, 0, 0, 0, 0, 0, 0, 0, 0, 0, 0, 0, 0, 0, 0, 0, 0,\n",
       "       0, 0, 0, 0, 0, 0, 0, 0, 0, 0, 0, 0, 1, 1, 1, 1, 1, 1, 1, 1, 1, 1,\n",
       "       1, 1, 1, 1, 1, 1, 1, 1, 1, 1, 1, 1, 1, 1, 1, 1, 1, 1, 1, 1, 1, 1,\n",
       "       1, 1, 1, 1, 1, 1, 1, 1, 1, 1, 1, 1, 1, 1, 1, 1, 1, 1])"
      ]
     },
     "execution_count": 28,
     "metadata": {},
     "output_type": "execute_result"
    }
   ],
   "source": [
    "y[:, 2]"
   ]
  },
  {
   "cell_type": "code",
   "execution_count": 29,
   "metadata": {},
   "outputs": [],
   "source": [
    "from sklearn.metrics import precision_recall_curve"
   ]
  },
  {
   "cell_type": "code",
   "execution_count": 35,
   "metadata": {},
   "outputs": [],
   "source": [
    "pre, rec, ths = precision_recall_curve(\n",
    "    y[:, 0],\n",
    "    random_state.randn(y.shape[0])\n",
    ")"
   ]
  },
  {
   "cell_type": "code",
   "execution_count": 37,
   "metadata": {},
   "outputs": [
    {
     "data": {
      "text/plain": [
       "(138,)"
      ]
     },
     "execution_count": 37,
     "metadata": {},
     "output_type": "execute_result"
    }
   ],
   "source": [
    "ths.shape"
   ]
  },
  {
   "cell_type": "code",
   "execution_count": 58,
   "metadata": {},
   "outputs": [],
   "source": [
    "from sklearn.preprocessing import MultiLabelBinarizer"
   ]
  },
  {
   "cell_type": "code",
   "execution_count": 61,
   "metadata": {},
   "outputs": [
    {
     "data": {
      "text/plain": [
       "array([[1, 0, 0],\n",
       "       [1, 1, 0],\n",
       "       [1, 0, 0],\n",
       "       [0, 1, 0],\n",
       "       [1, 1, 0]])"
      ]
     },
     "execution_count": 61,
     "metadata": {},
     "output_type": "execute_result"
    }
   ],
   "source": [
    "mlb = MultiLabelBinarizer(classes=[1, 2, 3])\n",
    "mlb.fit_transform([(1,), (1, 2), (1,), (2,), (1, 2)])"
   ]
  },
  {
   "cell_type": "code",
   "execution_count": 60,
   "metadata": {},
   "outputs": [
    {
     "data": {
      "text/plain": [
       "array([1, 2])"
      ]
     },
     "execution_count": 60,
     "metadata": {},
     "output_type": "execute_result"
    }
   ],
   "source": [
    "mlb.classes_"
   ]
  },
  {
   "cell_type": "code",
   "execution_count": 64,
   "metadata": {},
   "outputs": [
    {
     "data": {
      "text/plain": [
       "0.2857142857142857"
      ]
     },
     "execution_count": 64,
     "metadata": {},
     "output_type": "execute_result"
    }
   ],
   "source": [
    "precision_score(\n",
    "    [[1, 0, 0], [1, 0, 0], [0, 1, 0], [1, 0, 0], [0, 0, 1]],\n",
    "    [[1, 0, 0], [1, 1, 0], [1, 0, 0], [0, 1, 0], [1, 1, 0]],\n",
    "    average='micro'\n",
    ") # OK"
   ]
  },
  {
   "cell_type": "code",
   "execution_count": 30,
   "metadata": {},
   "outputs": [
    {
     "data": {
      "text/plain": [
       "(0.2857142857142857, 0.4, 0.3333333333333333, None)"
      ]
     },
     "execution_count": 30,
     "metadata": {},
     "output_type": "execute_result"
    }
   ],
   "source": [
    "precision_recall_fscore_support(\n",
    "    [[1, 0, 0], [1, 0, 0], [0, 1, 0], [1, 0, 0], [0, 0, 1]],\n",
    "    [[1, 0, 0], [1, 1, 0], [1, 0, 0], [0, 1, 0], [1, 1, 0]],\n",
    "    average='micro'\n",
    ")"
   ]
  },
  {
   "cell_type": "code",
   "execution_count": 67,
   "metadata": {},
   "outputs": [
    {
     "data": {
      "text/plain": [
       "(array([1., 1., 1., 1.]),\n",
       " array([1.        , 0.66666667, 0.33333333, 0.        ]),\n",
       " array([0.5 , 0.7 , 0.78]))"
      ]
     },
     "execution_count": 67,
     "metadata": {},
     "output_type": "execute_result"
    }
   ],
   "source": [
    "gt = np.array([[1, 0, 0], [1, 0, 0], [0, 1, 0], [1, 0, 0], [0, 0, 1]])\n",
    "ps = np.array([[0.5, 0, 0], [0.7, 0.2, 0.1], [0.1, 0.8, 0.2], [0.78, 0, 0], [0.1, 0.1, 0.6]])\n",
    "\n",
    "precision_recall_curve(\n",
    "    gt[:, 0],\n",
    "    ps[:, 0],\n",
    ") # OK"
   ]
  },
  {
   "cell_type": "code",
   "execution_count": 69,
   "metadata": {},
   "outputs": [
    {
     "data": {
      "text/plain": [
       "array([1, 0, 0, 1, 0, 0, 0, 1, 0, 1, 0, 0, 0, 0, 1])"
      ]
     },
     "execution_count": 69,
     "metadata": {},
     "output_type": "execute_result"
    }
   ],
   "source": [
    "gt.ravel()"
   ]
  },
  {
   "cell_type": "code",
   "execution_count": 70,
   "metadata": {},
   "outputs": [
    {
     "data": {
      "text/plain": [
       "(array([1., 1., 1., 1., 1., 1.]),\n",
       " array([1. , 0.8, 0.6, 0.4, 0.2, 0. ]),\n",
       " array([0.5 , 0.6 , 0.7 , 0.78, 0.8 ]))"
      ]
     },
     "execution_count": 70,
     "metadata": {},
     "output_type": "execute_result"
    }
   ],
   "source": [
    "precision_recall_curve(\n",
    "    gt.ravel(),\n",
    "    ps.ravel()\n",
    ") # OK"
   ]
  },
  {
   "cell_type": "code",
   "execution_count": 1,
   "metadata": {},
   "outputs": [],
   "source": [
    "### LOAD PREDICTIONS\n",
    "import pickle"
   ]
  },
  {
   "cell_type": "code",
   "execution_count": 74,
   "metadata": {},
   "outputs": [],
   "source": [
    "GROUND_TRUTH = \"ground-truth\"\n",
    "PREDICTION = \"prediction\"\n",
    "SEQ_LENGTH = \"seq-length\"\n",
    "\n",
    "\n",
    "def default_value():\n",
    "    return {\n",
    "        GROUND_TRUTH: [],\n",
    "        PREDICTION: [],\n",
    "        SEQ_LENGTH: 0\n",
    "    }\n",
    "\n",
    "pred = pickle.load(open('../data/predictions_2021-05-16T12:22:03.722505.p', 'rb'))"
   ]
  },
  {
   "cell_type": "code",
   "execution_count": 10,
   "metadata": {},
   "outputs": [],
   "source": [
    "# Goal\n",
    "#   - 10 thresholdovu evaluaciu\n",
    "#       --> podla thresholdu urobit binarizaciu --> vypocitat 'micro' Precision/Recall/F1-Score\n",
    "#       --> reportnut tieto hodnoty do tensorboardu --> dostanem 10 threshold grafov\n",
    "#   - vypocet accuracy pre Classification rovnakym sposobom\n",
    "#   - vypocitat AP pre detection a dat do grafu\n",
    "#   - precision-recall-curve ktory ulozim ako PNG\n",
    "\n",
    "#   - kumulativna podla thresholdu ??\n",
    "#       - viem to vybrat z dat pre Precision/Recall/F1-Score z thresholdov"
   ]
  },
  {
   "cell_type": "code",
   "execution_count": 75,
   "metadata": {},
   "outputs": [],
   "source": [
    "# 10 Threshold evaluaction\n",
    "from sklearn.preprocessing import label_binarize\n",
    "from sklearn.metrics import precision_recall_fscore_support, average_precision_score"
   ]
  },
  {
   "cell_type": "code",
   "execution_count": 87,
   "metadata": {},
   "outputs": [],
   "source": [
    "y_cont = []\n",
    "x_cont = []\n",
    "for _, values in pred.items():\n",
    "    y_cont += values[GROUND_TRUTH]\n",
    "    x_cont += [t[0] for t in values[PREDICTION]]\n",
    "    \n",
    "y_cont = np.array(y_cont)\n",
    "x_cont = np.array(x_cont)"
   ]
  },
  {
   "cell_type": "code",
   "execution_count": 89,
   "metadata": {},
   "outputs": [
    {
     "data": {
      "text/plain": [
       "(272166, 43)"
      ]
     },
     "execution_count": 89,
     "metadata": {},
     "output_type": "execute_result"
    }
   ],
   "source": [
    "x_cont.shape"
   ]
  },
  {
   "cell_type": "code",
   "execution_count": 90,
   "metadata": {},
   "outputs": [],
   "source": [
    "# ground-truth binarization\n",
    "y_bin = label_binarize(y_cont, classes=list(range(0, 43)))"
   ]
  },
  {
   "cell_type": "code",
   "execution_count": 96,
   "metadata": {},
   "outputs": [
    {
     "name": "stdout",
     "output_type": "stream",
     "text": [
      "0.1, Precision: 0.318, Recall: 0.589, F1-Score: 0.413\n",
      "0.2, Precision: 0.432, Recall: 0.489, F1-Score: 0.459\n",
      "0.3, Precision: 0.515, Recall: 0.421, F1-Score: 0.463\n",
      "0.4, Precision: 0.591, Recall: 0.367, F1-Score: 0.453\n",
      "0.5, Precision: 0.663, Recall: 0.319, F1-Score: 0.431\n",
      "0.6, Precision: 0.728, Recall: 0.274, F1-Score: 0.398\n",
      "0.7, Precision: 0.79, Recall: 0.228, F1-Score: 0.354\n",
      "0.8, Precision: 0.855, Recall: 0.166, F1-Score: 0.278\n",
      "0.9, Precision: 0.942, Recall: 0.078, F1-Score: 0.144\n"
     ]
    }
   ],
   "source": [
    "# calculate Precision, Recall, F1 Score\n",
    "for t in np.arange(0.1, 1.0, 0.1):\n",
    "    x_bin = np.where(x_cont > t, 1, 0)\n",
    "    res = precision_recall_fscore_support(\n",
    "        y_bin,\n",
    "        x_bin,\n",
    "        average='micro',\n",
    "        zero_division=0\n",
    "    )\n",
    "    res = [round(v, 3) for v in res if v is not None]\n",
    "    print(f\"{round(t, 1)}, Precision: {res[0]}, Recall: {res[1]}, F1-Score: {res[2]}\")"
   ]
  },
  {
   "cell_type": "code",
   "execution_count": 93,
   "metadata": {},
   "outputs": [
    {
     "name": "stdout",
     "output_type": "stream",
     "text": [
      "\n",
      "AP: 0.49069291293506195\n"
     ]
    }
   ],
   "source": [
    "ap_score = average_precision_score(\n",
    "    y_bin,\n",
    "    x_cont,\n",
    "    average='macro'\n",
    ")\n",
    "print(f'\\nAP: {ap_score}')"
   ]
  },
  {
   "cell_type": "code",
   "execution_count": null,
   "metadata": {},
   "outputs": [],
   "source": []
  }
 ],
 "metadata": {
  "kernelspec": {
   "display_name": "Python 3",
   "language": "python",
   "name": "python3"
  },
  "language_info": {
   "codemirror_mode": {
    "name": "ipython",
    "version": 3
   },
   "file_extension": ".py",
   "mimetype": "text/x-python",
   "name": "python",
   "nbconvert_exporter": "python",
   "pygments_lexer": "ipython3",
   "version": "3.7.10"
  }
 },
 "nbformat": 4,
 "nbformat_minor": 4
}
