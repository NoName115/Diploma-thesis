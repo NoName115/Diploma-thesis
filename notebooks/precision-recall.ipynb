{
 "cells": [
  {
   "cell_type": "code",
   "execution_count": 9,
   "metadata": {},
   "outputs": [],
   "source": [
    "from sklearn import svm, datasets\n",
    "from sklearn.preprocessing import label_binarize\n",
    "from sklearn.model_selection import train_test_split\n",
    "import numpy as np"
   ]
  },
  {
   "cell_type": "code",
   "execution_count": 4,
   "metadata": {},
   "outputs": [],
   "source": [
    "iris = datasets.load_iris()"
   ]
  },
  {
   "cell_type": "code",
   "execution_count": 17,
   "metadata": {},
   "outputs": [
    {
     "name": "stdout",
     "output_type": "stream",
     "text": [
      "(150, 4)\n",
      "(150, 804)\n"
     ]
    }
   ],
   "source": [
    "X = iris.data\n",
    "print(X.shape)\n",
    "\n",
    "# Add noisy features\n",
    "random_state = np.random.RandomState(0)\n",
    "n_samples, n_features = X.shape\n",
    "X = np.c_[X, random_state.randn(n_samples, 200 * n_features)]\n",
    "print(X.shape)"
   ]
  },
  {
   "cell_type": "code",
   "execution_count": 13,
   "metadata": {},
   "outputs": [
    {
     "data": {
      "text/plain": [
       "(150,)"
      ]
     },
     "execution_count": 13,
     "metadata": {},
     "output_type": "execute_result"
    }
   ],
   "source": [
    "y = iris.target\n",
    "y.shape"
   ]
  },
  {
   "cell_type": "code",
   "execution_count": 23,
   "metadata": {},
   "outputs": [
    {
     "data": {
      "text/plain": [
       "(150, 3)"
      ]
     },
     "execution_count": 23,
     "metadata": {},
     "output_type": "execute_result"
    }
   ],
   "source": [
    "y = label_binarize(y, classes=[0, 1, 2])\n",
    "y.shape"
   ]
  },
  {
   "cell_type": "code",
   "execution_count": 28,
   "metadata": {},
   "outputs": [
    {
     "data": {
      "text/plain": [
       "array([0, 0, 0, 0, 0, 0, 0, 0, 0, 0, 0, 0, 0, 0, 0, 0, 0, 0, 0, 0, 0, 0,\n",
       "       0, 0, 0, 0, 0, 0, 0, 0, 0, 0, 0, 0, 0, 0, 0, 0, 0, 0, 0, 0, 0, 0,\n",
       "       0, 0, 0, 0, 0, 0, 0, 0, 0, 0, 0, 0, 0, 0, 0, 0, 0, 0, 0, 0, 0, 0,\n",
       "       0, 0, 0, 0, 0, 0, 0, 0, 0, 0, 0, 0, 0, 0, 0, 0, 0, 0, 0, 0, 0, 0,\n",
       "       0, 0, 0, 0, 0, 0, 0, 0, 0, 0, 0, 0, 1, 1, 1, 1, 1, 1, 1, 1, 1, 1,\n",
       "       1, 1, 1, 1, 1, 1, 1, 1, 1, 1, 1, 1, 1, 1, 1, 1, 1, 1, 1, 1, 1, 1,\n",
       "       1, 1, 1, 1, 1, 1, 1, 1, 1, 1, 1, 1, 1, 1, 1, 1, 1, 1])"
      ]
     },
     "execution_count": 28,
     "metadata": {},
     "output_type": "execute_result"
    }
   ],
   "source": [
    "y[:, 2]"
   ]
  },
  {
   "cell_type": "code",
   "execution_count": 29,
   "metadata": {},
   "outputs": [],
   "source": [
    "from sklearn.metrics import precision_recall_curve"
   ]
  },
  {
   "cell_type": "code",
   "execution_count": 35,
   "metadata": {},
   "outputs": [],
   "source": [
    "pre, rec, ths = precision_recall_curve(\n",
    "    y[:, 0],\n",
    "    random_state.randn(y.shape[0])\n",
    ")"
   ]
  },
  {
   "cell_type": "code",
   "execution_count": 37,
   "metadata": {},
   "outputs": [
    {
     "data": {
      "text/plain": [
       "(138,)"
      ]
     },
     "execution_count": 37,
     "metadata": {},
     "output_type": "execute_result"
    }
   ],
   "source": [
    "ths.shape"
   ]
  },
  {
   "cell_type": "code",
   "execution_count": 58,
   "metadata": {},
   "outputs": [],
   "source": [
    "from sklearn.preprocessing import MultiLabelBinarizer"
   ]
  },
  {
   "cell_type": "code",
   "execution_count": 61,
   "metadata": {},
   "outputs": [
    {
     "data": {
      "text/plain": [
       "array([[1, 0, 0],\n",
       "       [1, 1, 0],\n",
       "       [1, 0, 0],\n",
       "       [0, 1, 0],\n",
       "       [1, 1, 0]])"
      ]
     },
     "execution_count": 61,
     "metadata": {},
     "output_type": "execute_result"
    }
   ],
   "source": [
    "mlb = MultiLabelBinarizer(classes=[1, 2, 3])\n",
    "mlb.fit_transform([(1,), (1, 2), (1,), (2,), (1, 2)])"
   ]
  },
  {
   "cell_type": "code",
   "execution_count": 60,
   "metadata": {},
   "outputs": [
    {
     "data": {
      "text/plain": [
       "array([1, 2])"
      ]
     },
     "execution_count": 60,
     "metadata": {},
     "output_type": "execute_result"
    }
   ],
   "source": [
    "mlb.classes_"
   ]
  },
  {
   "cell_type": "code",
   "execution_count": 64,
   "metadata": {},
   "outputs": [
    {
     "data": {
      "text/plain": [
       "0.2857142857142857"
      ]
     },
     "execution_count": 64,
     "metadata": {},
     "output_type": "execute_result"
    }
   ],
   "source": [
    "precision_score(\n",
    "    [[1, 0, 0], [1, 0, 0], [0, 1, 0], [1, 0, 0], [0, 0, 1]],\n",
    "    [[1, 0, 0], [1, 1, 0], [1, 0, 0], [0, 1, 0], [1, 1, 0]],\n",
    "    average='micro'\n",
    ") # OK"
   ]
  },
  {
   "cell_type": "code",
   "execution_count": 30,
   "metadata": {},
   "outputs": [
    {
     "data": {
      "text/plain": [
       "(0.2857142857142857, 0.4, 0.3333333333333333, None)"
      ]
     },
     "execution_count": 30,
     "metadata": {},
     "output_type": "execute_result"
    }
   ],
   "source": [
    "precision_recall_fscore_support(\n",
    "    [[1, 0, 0], [1, 0, 0], [0, 1, 0], [1, 0, 0], [0, 0, 1]],\n",
    "    [[1, 0, 0], [1, 1, 0], [1, 0, 0], [0, 1, 0], [1, 1, 0]],\n",
    "    average='micro'\n",
    ")"
   ]
  },
  {
   "cell_type": "code",
   "execution_count": 67,
   "metadata": {},
   "outputs": [
    {
     "data": {
      "text/plain": [
       "(array([1., 1., 1., 1.]),\n",
       " array([1.        , 0.66666667, 0.33333333, 0.        ]),\n",
       " array([0.5 , 0.7 , 0.78]))"
      ]
     },
     "execution_count": 67,
     "metadata": {},
     "output_type": "execute_result"
    }
   ],
   "source": [
    "gt = np.array([[1, 0, 0], [1, 0, 0], [0, 1, 0], [1, 0, 0], [0, 0, 1]])\n",
    "ps = np.array([[0.5, 0, 0], [0.7, 0.2, 0.1], [0.1, 0.8, 0.2], [0.78, 0, 0], [0.1, 0.1, 0.6]])\n",
    "\n",
    "precision_recall_curve(\n",
    "    gt[:, 0],\n",
    "    ps[:, 0],\n",
    ") # OK"
   ]
  },
  {
   "cell_type": "code",
   "execution_count": 69,
   "metadata": {},
   "outputs": [
    {
     "data": {
      "text/plain": [
       "array([1, 0, 0, 1, 0, 0, 0, 1, 0, 1, 0, 0, 0, 0, 1])"
      ]
     },
     "execution_count": 69,
     "metadata": {},
     "output_type": "execute_result"
    }
   ],
   "source": [
    "gt.ravel()"
   ]
  },
  {
   "cell_type": "code",
   "execution_count": 70,
   "metadata": {},
   "outputs": [
    {
     "data": {
      "text/plain": [
       "(array([1., 1., 1., 1., 1., 1.]),\n",
       " array([1. , 0.8, 0.6, 0.4, 0.2, 0. ]),\n",
       " array([0.5 , 0.6 , 0.7 , 0.78, 0.8 ]))"
      ]
     },
     "execution_count": 70,
     "metadata": {},
     "output_type": "execute_result"
    }
   ],
   "source": [
    "precision_recall_curve(\n",
    "    gt.ravel(),\n",
    "    ps.ravel()\n",
    ") # OK"
   ]
  },
  {
   "cell_type": "code",
   "execution_count": 10,
   "metadata": {},
   "outputs": [],
   "source": [
    "# Goal\n",
    "#   - 10 thresholdovu evaluaciu\n",
    "#       --> podla thresholdu urobit binarizaciu --> vypocitat 'micro' Precision/Recall/F1-Score\n",
    "#       --> reportnut tieto hodnoty do tensorboardu --> dostanem 10 threshold grafov\n",
    "#   - vypocet accuracy pre Classification rovnakym sposobom\n",
    "#   - vypocitat AP pre detection a dat do grafu\n",
    "#   - precision-recall-curve ktory ulozim ako PNG\n",
    "\n",
    "#   - kumulativna podla thresholdu ??\n",
    "#       - viem to vybrat z dat pre Precision/Recall/F1-Score z thresholdov"
   ]
  },
  {
   "cell_type": "code",
   "execution_count": 75,
   "metadata": {},
   "outputs": [],
   "source": [
    "# 10 Threshold evaluaction\n",
    "from sklearn.preprocessing import label_binarize\n",
    "from sklearn.metrics import precision_recall_fscore_support, average_precision_score"
   ]
  },
  {
   "cell_type": "code",
   "execution_count": 87,
   "metadata": {},
   "outputs": [],
   "source": [
    "y_cont = []\n",
    "x_cont = []\n",
    "for _, values in pred.items():\n",
    "    y_cont += values[GROUND_TRUTH]\n",
    "    x_cont += [t[0] for t in values[PREDICTION]]\n",
    "    \n",
    "y_cont = np.array(y_cont)\n",
    "x_cont = np.array(x_cont)"
   ]
  },
  {
   "cell_type": "code",
   "execution_count": 89,
   "metadata": {},
   "outputs": [
    {
     "data": {
      "text/plain": [
       "(272166, 43)"
      ]
     },
     "execution_count": 89,
     "metadata": {},
     "output_type": "execute_result"
    }
   ],
   "source": [
    "x_cont.shape"
   ]
  },
  {
   "cell_type": "code",
   "execution_count": 90,
   "metadata": {},
   "outputs": [],
   "source": [
    "# ground-truth binarization\n",
    "y_bin = label_binarize(y_cont, classes=list(range(0, 43)))"
   ]
  },
  {
   "cell_type": "code",
   "execution_count": 96,
   "metadata": {},
   "outputs": [
    {
     "name": "stdout",
     "output_type": "stream",
     "text": [
      "0.1, Precision: 0.318, Recall: 0.589, F1-Score: 0.413\n",
      "0.2, Precision: 0.432, Recall: 0.489, F1-Score: 0.459\n",
      "0.3, Precision: 0.515, Recall: 0.421, F1-Score: 0.463\n",
      "0.4, Precision: 0.591, Recall: 0.367, F1-Score: 0.453\n",
      "0.5, Precision: 0.663, Recall: 0.319, F1-Score: 0.431\n",
      "0.6, Precision: 0.728, Recall: 0.274, F1-Score: 0.398\n",
      "0.7, Precision: 0.79, Recall: 0.228, F1-Score: 0.354\n",
      "0.8, Precision: 0.855, Recall: 0.166, F1-Score: 0.278\n",
      "0.9, Precision: 0.942, Recall: 0.078, F1-Score: 0.144\n"
     ]
    }
   ],
   "source": [
    "# calculate Precision, Recall, F1 Score\n",
    "for t in np.arange(0.1, 1.0, 0.1):\n",
    "    x_bin = np.where(x_cont > t, 1, 0)\n",
    "    res = precision_recall_fscore_support(\n",
    "        y_bin,\n",
    "        x_bin,\n",
    "        average='micro',\n",
    "        zero_division=0\n",
    "    )\n",
    "    res = [round(v, 3) for v in res if v is not None]\n",
    "    print(f\"{round(t, 1)}, Precision: {res[0]}, Recall: {res[1]}, F1-Score: {res[2]}\")"
   ]
  },
  {
   "cell_type": "code",
   "execution_count": 93,
   "metadata": {},
   "outputs": [
    {
     "name": "stdout",
     "output_type": "stream",
     "text": [
      "\n",
      "AP: 0.49069291293506195\n"
     ]
    }
   ],
   "source": [
    "ap_score = average_precision_score(\n",
    "    y_bin,\n",
    "    x_cont,\n",
    "    average='macro'\n",
    ")\n",
    "print(f'\\nAP: {ap_score}')"
   ]
  },
  {
   "cell_type": "code",
   "execution_count": 1,
   "metadata": {},
   "outputs": [],
   "source": [
    "####### Calculate Accuracy"
   ]
  },
  {
   "cell_type": "code",
   "execution_count": 26,
   "metadata": {},
   "outputs": [],
   "source": [
    "### LOAD PREDICTIONS\n",
    "import os\n",
    "import pickle\n",
    "import numpy as np"
   ]
  },
  {
   "cell_type": "code",
   "execution_count": 12,
   "metadata": {},
   "outputs": [],
   "source": [
    "GROUND_TRUTH = \"ground-truth\"\n",
    "PREDICTION = \"prediction\"\n",
    "SEQ_LENGTH = \"seq-length\"\n",
    "\n",
    "\n",
    "def default_value():\n",
    "    return {\n",
    "        GROUND_TRUTH: [],\n",
    "        PREDICTION: [],\n",
    "        SEQ_LENGTH: 0\n",
    "    }\n",
    "\n",
    "#pred = pickle.load(open('../data/predictions_2021-05-16T12:22:03.722505.p', 'rb'))"
   ]
  },
  {
   "cell_type": "code",
   "execution_count": 13,
   "metadata": {},
   "outputs": [
    {
     "data": {
      "text/plain": [
       "['predictions_30_2021_05_17-19_45_15.p',\n",
       " 'predictions_100_2021_05_17-20_33_50.p',\n",
       " 'predictions_80_2021_05_17-20_20_06.p',\n",
       " 'predictions_60_2021_05_17-20_06_05.p',\n",
       " 'predictions_40_2021_05_17-19_52_10.p',\n",
       " 'predictions_70_2021_05_17-20_13_03.p',\n",
       " 'predictions_50_2021_05_17-19_59_03.p',\n",
       " 'predictions_10_2021_05_17-19_31_14.p',\n",
       " 'predictions_90_2021_05_17-20_26_58.p',\n",
       " 'predictions_20_2021_05_17-19_38_10.p']"
      ]
     },
     "execution_count": 13,
     "metadata": {},
     "output_type": "execute_result"
    }
   ],
   "source": [
    "folder = '../output_models/cross_subject-batch_1_lr_0001_rs_overlap_2021_03_04-14_47_39/'\n",
    "\n",
    "file_predictions = list(filter(lambda x: x.endswith('.p'), os.listdir(folder)))\n",
    "file_predictions"
   ]
  },
  {
   "cell_type": "code",
   "execution_count": 14,
   "metadata": {},
   "outputs": [],
   "source": [
    "pfile = file_predictions[0]\n",
    "\n",
    "data = pickle.load(open(os.path.join(folder, pfile), 'rb'))"
   ]
  },
  {
   "cell_type": "code",
   "execution_count": 15,
   "metadata": {},
   "outputs": [
    {
     "data": {
      "text/plain": [
       "collections.defaultdict"
      ]
     },
     "execution_count": 15,
     "metadata": {},
     "output_type": "execute_result"
    }
   ],
   "source": [
    "type(data)"
   ]
  },
  {
   "cell_type": "code",
   "execution_count": 16,
   "metadata": {},
   "outputs": [
    {
     "data": {
      "text/plain": [
       "dict_keys(['0291-L', '0291-M', '0291-R', '0292-L', '0292-M', '0292-R', '0293-L', '0293-M', '0293-R', '0294-L', '0294-M', '0294-R', '0295-L', '0295-M', '0295-R', '0296-L', '0296-M', '0296-R', '0297-L', '0297-M', '0297-R', '0298-L', '0298-M', '0298-R', '0301-L', '0301-M', '0301-R', '0302-L', '0302-M', '0302-R', '0303-L', '0303-M', '0303-R', '0304-L', '0304-M', '0304-R', '0305-L', '0305-M', '0305-R', '0306-L', '0306-M', '0306-R', '0307-L', '0307-M', '0307-R', '0308-L', '0308-M', '0308-R', '0311-L', '0311-M', '0311-R', '0312-L', '0312-M', '0312-R', '0313-L', '0313-M', '0313-R', '0314-L', '0314-M', '0314-R', '0315-L', '0315-M', '0315-R', '0316-L', '0316-M', '0316-R', '0317-L', '0317-M', '0317-R', '0318-L', '0318-M', '0318-R', '0321-L', '0321-M', '0321-R', '0322-L', '0322-M', '0322-R', '0323-L', '0323-M', '0323-R', '0324-L', '0324-M', '0324-R', '0325-L', '0325-M', '0325-R', '0326-L', '0326-M', '0326-R', '0327-L', '0327-M', '0327-R', '0328-L', '0328-M', '0328-R', '0331-L', '0331-M', '0331-R', '0332-L', '0332-M', '0332-R', '0333-L', '0333-M', '0333-R', '0334-L', '0334-M', '0334-R'])"
      ]
     },
     "execution_count": 16,
     "metadata": {},
     "output_type": "execute_result"
    }
   ],
   "source": [
    "data.keys()"
   ]
  },
  {
   "cell_type": "code",
   "execution_count": 24,
   "metadata": {},
   "outputs": [
    {
     "data": {
      "text/plain": [
       "dict_keys(['ground-truth', 'prediction', 'seq-length'])"
      ]
     },
     "execution_count": 24,
     "metadata": {},
     "output_type": "execute_result"
    }
   ],
   "source": [
    "data['0291-L'].keys()"
   ]
  },
  {
   "cell_type": "code",
   "execution_count": 30,
   "metadata": {},
   "outputs": [
    {
     "data": {
      "text/plain": [
       "38"
      ]
     },
     "execution_count": 30,
     "metadata": {},
     "output_type": "execute_result"
    }
   ],
   "source": [
    "np.argmax(data['0291-L']['prediction'][0])"
   ]
  },
  {
   "cell_type": "code",
   "execution_count": 31,
   "metadata": {},
   "outputs": [
    {
     "data": {
      "text/plain": [
       "array([[2.8459190e-03, 1.1553781e-02, 7.4541368e-02, 8.0316830e-03,\n",
       "        2.6821257e-03, 1.3154967e-03, 1.4384463e-04, 2.4321429e-02,\n",
       "        3.9683646e-03, 7.6341722e-03, 1.6967366e-03, 1.9604236e-02,\n",
       "        1.0788281e-03, 1.4819030e-03, 2.6515848e-03, 4.7615566e-03,\n",
       "        7.8955851e-03, 1.9214547e-03, 2.8833842e-02, 3.6492009e-02,\n",
       "        6.8346667e-03, 5.6670909e-04, 1.6281529e-03, 3.0740950e-02,\n",
       "        1.4514944e-03, 1.2861119e-03, 5.3657662e-02, 6.0573067e-03,\n",
       "        2.6825426e-02, 1.8227920e-02, 5.2449438e-03, 2.5670584e-03,\n",
       "        3.4110632e-02, 6.2723183e-03, 7.5275227e-03, 2.2157770e-02,\n",
       "        4.2854827e-03, 9.1887795e-04, 1.7055763e-01, 9.9727316e-03,\n",
       "        2.4460428e-03, 8.7177136e-04, 1.9786591e-03]], dtype=float32)"
      ]
     },
     "execution_count": 31,
     "metadata": {},
     "output_type": "execute_result"
    }
   ],
   "source": [
    "data['0291-L']['prediction'][0]"
   ]
  },
  {
   "cell_type": "code",
   "execution_count": 33,
   "metadata": {},
   "outputs": [
    {
     "name": "stdout",
     "output_type": "stream",
     "text": [
      "L-GT: 272166\n",
      "L-PR: 272166\n"
     ]
    }
   ],
   "source": [
    "# concatenate all predictions from all sequences\n",
    "gt = []\n",
    "pr = []\n",
    "for _, v in data.items():\n",
    "    gt += v['ground-truth']\n",
    "    pr += [np.argmax(p) for p in v['prediction']]\n",
    "    \n",
    "print(f'L-GT: {len(gt)}')\n",
    "print(f'L-PR: {len(pr)}')"
   ]
  },
  {
   "cell_type": "code",
   "execution_count": 35,
   "metadata": {},
   "outputs": [],
   "source": [
    "from sklearn.metrics import accuracy_score"
   ]
  },
  {
   "cell_type": "code",
   "execution_count": 39,
   "metadata": {},
   "outputs": [
    {
     "data": {
      "text/plain": [
       "0.25608268483205104"
      ]
     },
     "execution_count": 39,
     "metadata": {},
     "output_type": "execute_result"
    }
   ],
   "source": [
    "accuracy_score(gt, pr)"
   ]
  }
 ],
 "metadata": {
  "kernelspec": {
   "display_name": "Python 3",
   "language": "python",
   "name": "python3"
  },
  "language_info": {
   "codemirror_mode": {
    "name": "ipython",
    "version": 3
   },
   "file_extension": ".py",
   "mimetype": "text/x-python",
   "name": "python",
   "nbconvert_exporter": "python",
   "pygments_lexer": "ipython3",
   "version": "3.7.10"
  }
 },
 "nbformat": 4,
 "nbformat_minor": 4
}
